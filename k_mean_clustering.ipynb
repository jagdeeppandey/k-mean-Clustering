{
  "nbformat": 4,
  "nbformat_minor": 0,
  "metadata": {
    "colab": {
      "provenance": [],
      "authorship_tag": "ABX9TyPCUXnq63RqI1NdUyLCWRnx",
      "include_colab_link": true
    },
    "kernelspec": {
      "name": "python3",
      "display_name": "Python 3"
    },
    "language_info": {
      "name": "python"
    }
  },
  "cells": [
    {
      "cell_type": "markdown",
      "metadata": {
        "id": "view-in-github",
        "colab_type": "text"
      },
      "source": [
        "<a href=\"https://colab.research.google.com/github/jagdeeppandey/k-mean-Clustering/blob/main/k_mean_clustering.ipynb\" target=\"_parent\"><img src=\"https://colab.research.google.com/assets/colab-badge.svg\" alt=\"Open In Colab\"/></a>"
      ]
    },
    {
      "cell_type": "code",
      "execution_count": 2,
      "metadata": {
        "id": "6y_EEfY8V3aa"
      },
      "outputs": [],
      "source": [
        "from sklearn.datasets import make_blobs\n",
        "dataset=make_blobs(n_samples=150,n_features=2,centers=3,cluster_std=0.8)"
      ]
    },
    {
      "cell_type": "code",
      "source": [
        "a=dataset[0]\n",
        "b=dataset[1]\n",
        "a"
      ],
      "metadata": {
        "colab": {
          "base_uri": "https://localhost:8080/"
        },
        "id": "mDtDlLFuWDpt",
        "outputId": "26052de6-d458-4804-f835-226e0a1f1e93"
      },
      "execution_count": 4,
      "outputs": [
        {
          "output_type": "execute_result",
          "data": {
            "text/plain": [
              "array([[-8.88804436e+00, -3.67884375e+00],\n",
              "       [-4.29814713e+00,  3.65630978e-01],\n",
              "       [-9.19075181e+00, -1.92997662e+00],\n",
              "       [-1.13779340e+00,  8.41703871e+00],\n",
              "       [-4.67236660e+00, -1.72377549e-01],\n",
              "       [-7.21156685e+00, -3.33392144e+00],\n",
              "       [-1.94590056e+00,  5.66211266e+00],\n",
              "       [-7.92158265e+00, -2.56575003e+00],\n",
              "       [-4.54599173e+00, -4.21580440e-01],\n",
              "       [-9.32098088e+00, -1.41375994e+00],\n",
              "       [-8.53857383e+00, -2.17083965e+00],\n",
              "       [-6.12395364e-01,  6.39925368e+00],\n",
              "       [-5.70907799e+00, -2.21444929e-01],\n",
              "       [ 7.28945613e-01,  6.63808565e+00],\n",
              "       [-8.76437451e+00, -1.71865324e+00],\n",
              "       [-1.11226867e+00,  7.73117461e+00],\n",
              "       [-1.05359398e+00,  6.87421943e+00],\n",
              "       [-7.62981782e+00, -1.35804849e+00],\n",
              "       [-9.74665863e+00, -1.45762696e+00],\n",
              "       [-3.68920454e+00,  7.67780294e-01],\n",
              "       [-8.10937687e+00, -2.28735386e+00],\n",
              "       [-1.16977604e-01,  7.00136915e+00],\n",
              "       [-1.60320549e+00,  8.06188564e+00],\n",
              "       [-6.14045644e+00, -1.10247419e-01],\n",
              "       [-4.95500349e+00, -5.81282033e-01],\n",
              "       [-3.30217528e+00,  2.25514142e-03],\n",
              "       [-4.25972172e+00,  7.73041355e-01],\n",
              "       [-4.17669906e+00, -3.48460501e-01],\n",
              "       [-6.24018168e+00, -3.85883472e-01],\n",
              "       [-3.72818690e+00,  3.72455678e-01],\n",
              "       [-4.79923002e+00,  6.56541400e-01],\n",
              "       [-4.10042096e+00,  2.94287809e-01],\n",
              "       [ 5.51321374e-01,  6.95213927e+00],\n",
              "       [-8.44727898e+00, -2.45976304e+00],\n",
              "       [-4.77388951e+00, -5.88858720e-01],\n",
              "       [-8.17259432e+00, -2.00646830e+00],\n",
              "       [-5.02135998e+00,  6.05197068e-01],\n",
              "       [-7.92510300e+00, -2.16965954e+00],\n",
              "       [-3.45157087e+00, -4.34092145e-01],\n",
              "       [-2.76270297e+00,  1.14576849e+00],\n",
              "       [-2.32678869e-01,  7.64569208e+00],\n",
              "       [-4.02724099e+00, -8.71853902e-01],\n",
              "       [-2.56130572e+00,  8.30995740e+00],\n",
              "       [-5.08272621e+00, -9.87210523e-02],\n",
              "       [-1.74579805e+00,  7.48951092e+00],\n",
              "       [-4.61921183e+00,  2.89389481e-01],\n",
              "       [-4.55261534e+00,  4.71267273e-01],\n",
              "       [ 1.75140124e-01,  7.15103464e+00],\n",
              "       [-1.87481060e+00,  6.83138299e+00],\n",
              "       [-8.73711415e+00, -2.95369842e+00],\n",
              "       [-8.01495650e+00, -2.62461838e+00],\n",
              "       [-1.11302443e+00,  6.93279893e+00],\n",
              "       [-8.65028960e+00, -2.64538448e+00],\n",
              "       [-4.90859595e+00, -9.52635369e-01],\n",
              "       [-8.75973280e+00, -1.86234621e+00],\n",
              "       [-1.09147028e+00,  8.24472480e+00],\n",
              "       [-1.63827257e+00,  7.43351653e+00],\n",
              "       [-1.24295190e+00,  7.52573908e+00],\n",
              "       [-8.82863747e+00, -1.86922924e+00],\n",
              "       [-4.17732163e+00, -3.04299849e-01],\n",
              "       [-1.25351502e+00,  7.61420385e+00],\n",
              "       [-7.85019382e+00, -2.22566799e+00],\n",
              "       [-5.25614954e+00,  5.22260893e-01],\n",
              "       [-7.11579464e+00, -2.51494797e+00],\n",
              "       [-5.93270943e+00,  7.06325244e-01],\n",
              "       [-1.23316483e+00,  6.62484203e+00],\n",
              "       [-4.26776928e+00, -4.83763099e-01],\n",
              "       [-5.04609821e-01,  5.98848883e+00],\n",
              "       [-4.58982007e+00,  4.35882576e-01],\n",
              "       [-2.96757868e+00, -1.73845408e+00],\n",
              "       [-1.82076046e+00,  6.72759505e+00],\n",
              "       [-5.09750033e+00,  9.33237169e-01],\n",
              "       [-8.14497391e+00, -2.77738229e+00],\n",
              "       [-3.63400552e+00, -4.14626095e-01],\n",
              "       [-2.55398862e-01,  7.52779760e+00],\n",
              "       [-7.52072241e+00, -1.79824717e+00],\n",
              "       [-7.79848957e+00, -2.84596907e+00],\n",
              "       [-5.69245296e+00, -9.10709554e-01],\n",
              "       [-4.04091765e-01,  7.11575797e+00],\n",
              "       [-2.22532826e-02,  6.31350853e+00],\n",
              "       [-8.84136213e+00, -8.45773910e-01],\n",
              "       [-9.31138098e+00, -3.39195074e+00],\n",
              "       [-8.93092848e+00, -1.93109950e+00],\n",
              "       [-8.98963364e+00, -2.38352254e+00],\n",
              "       [-1.83228897e-01,  6.68668503e+00],\n",
              "       [ 7.65339122e-01,  7.73126603e+00],\n",
              "       [-7.09595866e+00, -2.49436028e+00],\n",
              "       [-8.96173631e+00, -1.56355307e+00],\n",
              "       [-7.74145148e+00, -2.42805668e+00],\n",
              "       [-8.08135196e+00, -2.95643416e+00],\n",
              "       [-8.68914532e+00, -2.05459442e+00],\n",
              "       [-4.20444048e+00,  1.02495659e+00],\n",
              "       [-5.70479726e-01,  7.64996802e+00],\n",
              "       [-4.39041456e+00,  1.61513700e-01],\n",
              "       [-2.62214088e-01,  7.63792332e+00],\n",
              "       [-5.11582589e+00,  1.01519100e+00],\n",
              "       [-9.33958089e+00, -7.72288842e-01],\n",
              "       [-7.69233919e+00, -1.19646866e+00],\n",
              "       [-8.35123217e+00, -3.34504558e+00],\n",
              "       [ 1.63372447e-01,  7.02379418e+00],\n",
              "       [-1.66049672e+00,  6.46608354e+00],\n",
              "       [-8.09112363e+00, -2.72775863e+00],\n",
              "       [-1.59337905e+00,  7.49180030e+00],\n",
              "       [-3.40740645e+00, -3.38605608e-01],\n",
              "       [-1.78068964e+00,  7.71665520e+00],\n",
              "       [-4.17816934e+00,  7.52682748e-01],\n",
              "       [-6.94244380e-01,  5.17231818e+00],\n",
              "       [-1.13941085e+00,  7.99223901e+00],\n",
              "       [-9.08037979e+00, -2.36455170e+00],\n",
              "       [-9.89560763e+00, -2.68462241e+00],\n",
              "       [-1.01339830e+00,  7.58041779e+00],\n",
              "       [-3.49708532e+00, -3.62245508e-01],\n",
              "       [-8.53985385e-01,  7.82616929e+00],\n",
              "       [-9.60301255e+00, -2.65561858e+00],\n",
              "       [-6.69556549e-01,  7.38238722e+00],\n",
              "       [-7.93733992e+00, -3.64631239e+00],\n",
              "       [-4.84716821e+00, -9.06456370e-01],\n",
              "       [-6.96270904e+00, -1.43575597e+00],\n",
              "       [-4.12922454e+00,  4.90741146e-01],\n",
              "       [-7.93868026e+00, -2.40506694e+00],\n",
              "       [-4.99994296e+00,  9.43918544e-02],\n",
              "       [-5.58503414e+00, -7.03813536e-01],\n",
              "       [-8.88937836e+00, -1.69767733e+00],\n",
              "       [-7.21955000e+00, -2.71388704e+00],\n",
              "       [-8.59741230e-01,  8.18736404e+00],\n",
              "       [-5.32822635e+00, -2.68311416e-01],\n",
              "       [-1.38166178e+00,  7.66749713e+00],\n",
              "       [-2.87772915e-01,  7.23734753e+00],\n",
              "       [-4.80525657e+00,  3.87597505e-03],\n",
              "       [-4.48076437e+00,  9.00423766e-01],\n",
              "       [-5.80560430e+00,  1.17307883e+00],\n",
              "       [-7.40359996e+00, -1.75681863e+00],\n",
              "       [-4.71392643e+00,  1.41166539e+00],\n",
              "       [-7.86420099e+00, -4.99751157e-01],\n",
              "       [-4.07788859e-01,  8.05488917e+00],\n",
              "       [-2.11763212e+00,  7.40424813e+00],\n",
              "       [-8.45620468e+00, -2.07748932e+00],\n",
              "       [-8.32306686e-01,  7.27694164e+00],\n",
              "       [-9.59066634e+00, -3.03656374e+00],\n",
              "       [-1.01738200e+00,  7.83324072e+00],\n",
              "       [-7.97682416e+00, -2.26957435e+00],\n",
              "       [-2.17024752e+00,  7.50600752e+00],\n",
              "       [-4.25483512e+00,  7.00506717e-01],\n",
              "       [-1.19691268e+00,  8.01557350e+00],\n",
              "       [-9.19950176e-02,  6.96699668e+00],\n",
              "       [-9.60092634e+00, -2.07617718e+00],\n",
              "       [-7.16316864e-01,  5.53686535e+00],\n",
              "       [-4.44765766e+00, -7.16992291e-02],\n",
              "       [-8.73682081e-01,  6.32931718e+00],\n",
              "       [-4.32948860e+00,  1.43349997e-01]])"
            ]
          },
          "metadata": {},
          "execution_count": 4
        }
      ]
    },
    {
      "cell_type": "code",
      "source": [
        "b"
      ],
      "metadata": {
        "colab": {
          "base_uri": "https://localhost:8080/"
        },
        "id": "i0R3UZNkWNtf",
        "outputId": "6cb4b674-457e-43c0-e85c-e9f434e7fb93"
      },
      "execution_count": 5,
      "outputs": [
        {
          "output_type": "execute_result",
          "data": {
            "text/plain": [
              "array([1, 0, 1, 2, 0, 1, 2, 1, 0, 1, 1, 2, 0, 2, 1, 2, 2, 1, 1, 0, 1, 2,\n",
              "       2, 0, 0, 0, 0, 0, 0, 0, 0, 0, 2, 1, 0, 1, 0, 1, 0, 0, 2, 0, 2, 0,\n",
              "       2, 0, 0, 2, 2, 1, 1, 2, 1, 0, 1, 2, 2, 2, 1, 0, 2, 1, 0, 1, 0, 2,\n",
              "       0, 2, 0, 0, 2, 0, 1, 0, 2, 1, 1, 0, 2, 2, 1, 1, 1, 1, 2, 2, 1, 1,\n",
              "       1, 1, 1, 0, 2, 0, 2, 0, 1, 1, 1, 2, 2, 1, 2, 0, 2, 0, 2, 2, 1, 1,\n",
              "       2, 0, 2, 1, 2, 1, 0, 1, 0, 1, 0, 0, 1, 1, 2, 0, 2, 2, 0, 0, 0, 1,\n",
              "       0, 1, 2, 2, 1, 2, 1, 2, 1, 2, 0, 2, 2, 1, 2, 0, 2, 0])"
            ]
          },
          "metadata": {},
          "execution_count": 5
        }
      ]
    },
    {
      "cell_type": "code",
      "source": [
        "x=a[:,0]\n",
        "y=a[:,1]"
      ],
      "metadata": {
        "id": "OwY8NHVpWTCu"
      },
      "execution_count": 6,
      "outputs": []
    },
    {
      "cell_type": "code",
      "source": [
        "import matplotlib.pyplot as plt\n",
        "plt.scatter(x,y)"
      ],
      "metadata": {
        "colab": {
          "base_uri": "https://localhost:8080/",
          "height": 282
        },
        "id": "TmH2S3XJWVPx",
        "outputId": "67e5248c-1353-4876-f6b4-cb5ff4acfb72"
      },
      "execution_count": 7,
      "outputs": [
        {
          "output_type": "execute_result",
          "data": {
            "text/plain": [
              "<matplotlib.collections.PathCollection at 0x7f65e6eb5ca0>"
            ]
          },
          "metadata": {},
          "execution_count": 7
        },
        {
          "output_type": "display_data",
          "data": {
            "text/plain": [
              "<Figure size 432x288 with 1 Axes>"
            ],
            "image/png": "[encoded data removed]"
          },
          "metadata": {
            "needs_background": "light"
          }
        }
      ]
    },
    {
      "cell_type": "code",
      "source": [
        "from sklearn.cluster import KMeans\n",
        "wcss=[]\n",
        "k=[1,2,3,4,5,6,7,8]\n",
        "for i in range(len(k)):\n",
        "  km=KMeans(n_clusters=k[i])\n",
        "  km.fit(a)\n",
        "  wcss.append(km.inertia_)\n",
        "wcss"
      ],
      "metadata": {
        "colab": {
          "base_uri": "https://localhost:8080/"
        },
        "id": "s8AdTWvTWY2h",
        "outputId": "f47a856d-74fa-4e8e-db7f-9c7a8772226a"
      },
      "execution_count": 9,
      "outputs": [
        {
          "output_type": "execute_result",
          "data": {
            "text/plain": [
              "[4004.506401817328,\n",
              " 663.8507335592149,\n",
              " 159.74380644766376,\n",
              " 137.04322912100145,\n",
              " 116.05878548473491,\n",
              " 97.15638622730498,\n",
              " 86.2593710269182,\n",
              " 75.21774482773023]"
            ]
          },
          "metadata": {},
          "execution_count": 9
        }
      ]
    },
    {
      "cell_type": "code",
      "source": [
        "plt.plot(k,wcss)"
      ],
      "metadata": {
        "colab": {
          "base_uri": "https://localhost:8080/",
          "height": 282
        },
        "id": "imyCHQp_We_y",
        "outputId": "d8283dbe-87fc-495f-fcbb-740ac56c9f13"
      },
      "execution_count": 10,
      "outputs": [
        {
          "output_type": "execute_result",
          "data": {
            "text/plain": [
              "[<matplotlib.lines.Line2D at 0x7f65e1dcc2e0>]"
            ]
          },
          "metadata": {},
          "execution_count": 10
        },
        {
          "output_type": "display_data",
          "data": {
            "text/plain": [
              "<Figure size 432x288 with 1 Axes>"
            ],
            "image/png": "[encoded data removed]"
          },
          "metadata": {
            "needs_background": "light"
          }
        }
      ]
    },
    {
      "cell_type": "code",
      "source": [
        "kn=KMeans(n_clusters=3)\n",
        "pred=kn.fit_predict(a)\n",
        "pred"
      ],
      "metadata": {
        "colab": {
          "base_uri": "https://localhost:8080/"
        },
        "id": "YMI7LN9BWohv",
        "outputId": "ba814b2f-fc28-4ac2-904a-2849b0513919"
      },
      "execution_count": 11,
      "outputs": [
        {
          "output_type": "execute_result",
          "data": {
            "text/plain": [
              "array([2, 0, 2, 1, 0, 2, 1, 2, 0, 2, 2, 1, 0, 1, 2, 1, 1, 2, 2, 0, 2, 1,\n",
              "       1, 0, 0, 0, 0, 0, 0, 0, 0, 0, 1, 2, 0, 2, 0, 2, 0, 0, 1, 0, 1, 0,\n",
              "       1, 0, 0, 1, 1, 2, 2, 1, 2, 0, 2, 1, 1, 1, 2, 0, 1, 2, 0, 2, 0, 1,\n",
              "       0, 1, 0, 0, 1, 0, 2, 0, 1, 2, 2, 0, 1, 1, 2, 2, 2, 2, 1, 1, 2, 2,\n",
              "       2, 2, 2, 0, 1, 0, 1, 0, 2, 2, 2, 1, 1, 2, 1, 0, 1, 0, 1, 1, 2, 2,\n",
              "       1, 0, 1, 2, 1, 2, 0, 2, 0, 2, 0, 0, 2, 2, 1, 0, 1, 1, 0, 0, 0, 2,\n",
              "       0, 2, 1, 1, 2, 1, 2, 1, 2, 1, 0, 1, 1, 2, 1, 0, 1, 0], dtype=int32)"
            ]
          },
          "metadata": {},
          "execution_count": 11
        }
      ]
    },
    {
      "cell_type": "code",
      "source": [
        "plt.scatter(x,y,c=pred)"
      ],
      "metadata": {
        "colab": {
          "base_uri": "https://localhost:8080/",
          "height": 282
        },
        "id": "KGzoi4oDWwUc",
        "outputId": "e707413b-38a2-4efe-d0c9-48ae74107b40"
      },
      "execution_count": 12,
      "outputs": [
        {
          "output_type": "execute_result",
          "data": {
            "text/plain": [
              "<matplotlib.collections.PathCollection at 0x7f65e1ce1640>"
            ]
          },
          "metadata": {},
          "execution_count": 12
        },
        {
          "output_type": "display_data",
          "data": {
            "text/plain": [
              "<Figure size 432x288 with 1 Axes>"
            ],
            "image/png": "[encoded data removed]"
          },
          "metadata": {
            "needs_background": "light"
          }
        }
      ]
    }
  ]
}